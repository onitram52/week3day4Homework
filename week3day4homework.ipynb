{
 "cells": [
  {
   "cell_type": "markdown",
   "metadata": {},
   "source": [
    " <h1 align = center> Principles of Object Oriented Programming </h1>"
   ]
  },
  {
   "cell_type": "markdown",
   "metadata": {},
   "source": [
    "#### 4 principles\n",
    "- Encapsulation\n",
    "- Abstraction\n",
    "- Inheritance\n",
    "- Polymorphism\n"
   ]
  },
  {
   "cell_type": "markdown",
   "metadata": {},
   "source": [
    "## 1 ENCAPSULATION"
   ]
  },
  {
   "cell_type": "markdown",
   "metadata": {},
   "source": [
    "In encapsulation, the variables of a class can be made hidden from other classes, and can be accessed only through the methods of their current class. Therefore, it is also known as data hiding.\n",
    "<br><br>\n",
    "Encapsulation can be described as a protective barrier that prevents the code and data being randomly accessed by other code defined outside the class. Access to the data and code is tightly controlled by a class."
   ]
  },
  {
   "cell_type": "code",
   "execution_count": 18,
   "metadata": {},
   "outputs": [],
   "source": [
    "from datetime import timedelta, date\n",
    "from IPython.display import Image\n",
    "import requests\n",
    "from time import sleep\n",
    "\n",
    "generic_image = 'codeflix.png'\n"
   ]
  },
  {
   "cell_type": "code",
   "execution_count": 19,
   "metadata": {},
   "outputs": [],
   "source": [
    "# attributes from instances are unique to that instance\n",
    "# attributes are protected and only to be accessed by class methods\n",
    "class Video():\n",
    "    \n",
    "    def __init__(self):\n",
    "        self.title = None\n",
    "        self.length = timedelta() \n",
    "        self.link = generic_image\n",
    "        \n",
    "    def play(self):\n",
    "        print(f\"now playing {self.title}\")\n",
    "        display(Image(self.link))\n",
    "    def pause(self):\n",
    "        print(\"video paused\")\n",
    "        \n",
    "    def __repr__(self):\n",
    "        return f\"{self.title} is {self.length.seconds} seconds long. \"\n",
    "    \n",
    "        \n",
    "    "
   ]
  },
  {
   "cell_type": "markdown",
   "metadata": {},
   "source": [
    "## 2 ABSTRACTION"
   ]
  },
  {
   "cell_type": "markdown",
   "metadata": {},
   "source": [
    "Abstraction is a process of hiding the implementation details from the user, only the functionality will be provided to the user. We have a bit to do before this becomes visible. But you've seen it before with presenting the user with the option to enter inputs. We then take those input and do something with them.\n",
    "<br><br>\n"
   ]
  },
  {
   "cell_type": "code",
   "execution_count": 20,
   "metadata": {},
   "outputs": [],
   "source": [
    "class Episode(Video):\n",
    "    def __init__(self,data):\n",
    "        Video.__init__(self)\n",
    "        self.number = data['number']\n",
    "        self.season = data['season']\n",
    "        self.date_aired = data['airdate']\n",
    "        self.summary = data['summary']\n",
    "        self.rating = data['rating']['average']\n",
    "        self.title = data['name']\n",
    "        self.length = timedelta(minutes = data['runtime'])\n",
    "        if data['image']:\n",
    "            self.link = data['image']['medium']\n",
    "        else:\n",
    "            self.link = generic_image"
   ]
  },
  {
   "cell_type": "markdown",
   "metadata": {},
   "source": [
    "## 3 INHERITENCE"
   ]
  },
  {
   "cell_type": "markdown",
   "metadata": {},
   "source": [
    "Inheritance can be defined as the process where one class acquires the properties (methods and fields) of another.\n",
    "<br>\n",
    "<i>(see above)</i>"
   ]
  },
  {
   "cell_type": "code",
   "execution_count": 21,
   "metadata": {},
   "outputs": [],
   "source": [
    "# class Episode(Video):\n",
    "#     def __init__(self, data): #<-- add data for passing in our ep\n",
    "#         Video.__init__(self)\n",
    "#         self.number = data['number']\n",
    "#         self.season = data['season']\n",
    "#         self.date_aired = data['airdate']\n",
    "#         self.summary = data['summary']\n",
    "#         self.rating = data['rating']['average']\n",
    "#         self.title = data['name']\n",
    "#         self.length = timedelta(minutes = data['runtime'])\n",
    "#         if data['image']: \n",
    "#             self.link = data['image']['medium']\n",
    "#         else:\n",
    "#             self.link = generic_image\n",
    "            \n",
    "            \n",
    "class Series():\n",
    "    def __init__(self):\n",
    "        self.id = None\n",
    "        self.network = None\n",
    "        self.seasons = None\n",
    "        self.summary = None\n",
    "        self.title = None\n",
    "        self.genres = []\n",
    "        self.episodes = []\n",
    "        \n",
    "    def get_info(self, query = \"\"):\n",
    "        data = None #<-- in case the show doesn't come back\n",
    "        while not data:\n",
    "            if not query:\n",
    "                query = input(\"What is the name of the series?\")\n",
    "                r = requests.get(f'https://api.tvmaze.com/singlesearch/shows?q={query}')\n",
    "                if r.status_code == 200:\n",
    "                    data = r.json()\n",
    "                    print(data)\n",
    "                else:\n",
    "                    print(f\"Series error: status code {r.status_code}\")\n",
    "                    query = \"\"\n",
    "                    \n",
    "            else:\n",
    "                r = requests.get(f'https://api.tvmaze.com/singlesearch/shows?q={query}')\n",
    "                if r.status_code == 200:\n",
    "                    data = r.json()\n",
    "                else:\n",
    "                    print(f\"Series Error: status code: {r.status_code}\")\n",
    "                    query = ''\n",
    "            \n",
    "                    \n",
    "        # Use data to build out our attributes\n",
    "        self.id = data['id']\n",
    "        self.title = data['name']\n",
    "        self.summary = data['summary']\n",
    "        self.genres = [genre for genre in data['genres']]\n",
    "        if data['network']:\n",
    "            self.network = data['network']['name']\n",
    "        else:\n",
    "            self.network = data['webChannel']['name']\n",
    "            \n",
    "        # API call for Episodes\n",
    "        r = requests.get(f'https://api.tvmaze.com/shows/{self.id}/episodes')\n",
    "        if r.status_code == 200:\n",
    "            episodes = r.json()\n",
    "        else:\n",
    "            print(f\"Episode erros: status code {r.status_code}\")\n",
    "            return\n",
    "        self.seasons = episodes[-1]['season']\n",
    "        self.episodes = [Episode(ep) for ep in episodes]\n",
    "        print(f\"{self.title} has {len(self.episodes)} episodes.\")\n",
    "        \n",
    "    def watch(self):\n",
    "        for i in range(len(self.episodes)):\n",
    "            if i > 0 and i % 3 == 0:\n",
    "                watching = input(\"Are you still watching? also get a job y/n\")\n",
    "                if watching.lower().strip() not in ('yes', 'y'):\n",
    "                    break\n",
    "            self.episodes[i].play()\n",
    "            sleep(self.episodes[i].length.seconds/1000)\n",
    "            \n",
    "    def __len__(self):\n",
    "        return len(self.episodes)\n",
    "    \n",
    "    def __repr__(self):\n",
    "        return f\"Title: {self.title}\"\n",
    "        "
   ]
  },
  {
   "cell_type": "code",
   "execution_count": 22,
   "metadata": {},
   "outputs": [
    {
     "name": "stdout",
     "output_type": "stream",
     "text": [
      "What is the name of the series?naruto\n",
      "{'id': 495, 'url': 'https://www.tvmaze.com/shows/495/naruto', 'name': 'Naruto', 'type': 'Animation', 'language': 'Japanese', 'genres': ['Action', 'Adventure', 'Anime', 'Fantasy'], 'status': 'Ended', 'runtime': 30, 'averageRuntime': 30, 'premiered': '2002-10-03', 'ended': '2007-02-08', 'officialSite': 'http://www.tv-tokyo.co.jp/anime/naruto/index2.html', 'schedule': {'time': '19:30', 'days': ['Thursday']}, 'rating': {'average': 8.3}, 'weight': 94, 'network': {'id': 76, 'name': 'TV Tokyo', 'country': {'name': 'Japan', 'code': 'JP', 'timezone': 'Asia/Tokyo'}, 'officialSite': None}, 'webChannel': {'id': 20, 'name': 'Crunchyroll', 'country': None, 'officialSite': None}, 'dvdCountry': None, 'externals': {'tvrage': 4620, 'thetvdb': 78857, 'imdb': 'tt0409591'}, 'image': {'medium': 'https://static.tvmaze.com/uploads/images/medium_portrait/3/9744.jpg', 'original': 'https://static.tvmaze.com/uploads/images/original_untouched/3/9744.jpg'}, 'summary': \"<p><b>Naruto</b> closely follows the life of a boy who is feared and detested by the villagers of the hidden leaf village of Konoha. The distrust of the boy has little to do with the boy himself, but it's what's inside him that causes anxiety. Long before Naruto came to be, a Kyuubi (demon fox) with great fury and power waged war taking many lives. The battle ensued for a long time until a man known as the Fourth Hokage, Yondaime, the strongest ninja in Konoha, fiercely fought the Kyuubi. The fight was soon won by Yondaime as he sealed the evil demon in a human body. Thus the boy, Naruto, was born. As Naruto grows he decides to become the strongest ninja in Konoha in an effort to show everyone that he is not as they perceive him to be, but is a human being worthy of love and admiration. But the road to becoming Hokage, the title for the strongest ninja in Konoha, is a long and arduous one. It is a path filled with betrayal, pain, and loss; but with hard work, Naruto may achieve Hokage.</p>\", 'updated': 1667449964, '_links': {'self': {'href': 'https://api.tvmaze.com/shows/495'}, 'previousepisode': {'href': 'https://api.tvmaze.com/episodes/45225'}}}\n",
      "Naruto has 220 episodes.\n"
     ]
    }
   ],
   "source": [
    "first_show = Series()\n",
    "first_show.get_info()"
   ]
  },
  {
   "cell_type": "code",
   "execution_count": 23,
   "metadata": {},
   "outputs": [
    {
     "data": {
      "text/plain": [
       "220"
      ]
     },
     "execution_count": 23,
     "metadata": {},
     "output_type": "execute_result"
    }
   ],
   "source": [
    "len(first_show)"
   ]
  },
  {
   "cell_type": "markdown",
   "metadata": {},
   "source": [
    "## 4 POLYMORPHISM"
   ]
  },
  {
   "cell_type": "markdown",
   "metadata": {},
   "source": [
    "In object-oriented programming, polymorphism (from the Greek meaning “having multiple forms”) is the characteristic of being able to assign a different meaning or usage to something in different contexts — specifically, to allow an entity such as a function, or an object to have more than one form.\n",
    "<br><br>\n"
   ]
  },
  {
   "cell_type": "code",
   "execution_count": 24,
   "metadata": {},
   "outputs": [
    {
     "name": "stdout",
     "output_type": "stream",
     "text": [
      "now playing Enter: Naruto Uzumaki!\n"
     ]
    },
    {
     "data": {
      "image/jpeg": "[encoded data removed]",
      "text/plain": [
       "<IPython.core.display.Image object>"
      ]
     },
     "metadata": {},
     "output_type": "display_data"
    },
    {
     "name": "stdout",
     "output_type": "stream",
     "text": [
      "now playing My Name is Konohamaru!\n"
     ]
    },
    {
     "data": {
      "image/jpeg": "[encoded data removed]",
      "text/plain": [
       "<IPython.core.display.Image object>"
      ]
     },
     "metadata": {},
     "output_type": "display_data"
    },
    {
     "name": "stdout",
     "output_type": "stream",
     "text": [
      "now playing Sasuke and Sakura: Friends or Foes?\n"
     ]
    },
    {
     "data": {
      "image/jpeg": "[encoded data removed]",
      "text/plain": [
       "<IPython.core.display.Image object>"
      ]
     },
     "metadata": {},
     "output_type": "display_data"
    },
    {
     "name": "stdout",
     "output_type": "stream",
     "text": [
      "Are you still watching? also get a job y/nn\n"
     ]
    }
   ],
   "source": [
    "first_show.watch()"
   ]
  },
  {
   "cell_type": "code",
   "execution_count": 25,
   "metadata": {},
   "outputs": [
    {
     "name": "stdout",
     "output_type": "stream",
     "text": [
      "What is the name of the series?dragonball\n",
      "Series error: status code 404\n",
      "What is the name of the series?dbz\n",
      "{'id': 44159, 'url': 'https://www.tvmaze.com/shows/44159/dmz', 'name': 'DMZ', 'type': 'Scripted', 'language': 'English', 'genres': ['Drama', 'Fantasy', 'Science-Fiction'], 'status': 'Ended', 'runtime': None, 'averageRuntime': 59, 'premiered': '2022-03-17', 'ended': '2022-03-17', 'officialSite': 'https://play.hbomax.com/page/urn:hbo:page:GYhA0QwXRB2quwwEAAACg:type:series', 'schedule': {'time': '', 'days': []}, 'rating': {'average': 5.1}, 'weight': 95, 'network': None, 'webChannel': {'id': 329, 'name': 'HBO Max', 'country': None, 'officialSite': 'https://www.hbomax.com/'}, 'dvdCountry': None, 'externals': {'tvrage': None, 'thetvdb': 414938, 'imdb': 'tt11057226'}, 'image': {'medium': 'https://static.tvmaze.com/uploads/images/medium_portrait/398/997322.jpg', 'original': 'https://static.tvmaze.com/uploads/images/original_untouched/398/997322.jpg'}, 'summary': \"<p>In the near future, a civil war leaves Manhattan a demilitarized zone (DMZ), destroyed and isolated from the rest of the world. <b>DMZ</b> chronicles the journey of a female medic who saves lives while desperately searching for her lost son. She has to contend with the gangs, militias, demagogues and warlords that control the lawless no man's land.</p>\", 'updated': 1652649342, '_links': {'self': {'href': 'https://api.tvmaze.com/shows/44159'}, 'previousepisode': {'href': 'https://api.tvmaze.com/episodes/2290878'}}}\n",
      "DMZ has 4 episodes.\n"
     ]
    }
   ],
   "source": [
    "show_2 = Series()\n",
    "show_2.get_info()"
   ]
  },
  {
   "cell_type": "code",
   "execution_count": 26,
   "metadata": {},
   "outputs": [
    {
     "name": "stdout",
     "output_type": "stream",
     "text": [
      "now playing Good Luck\n"
     ]
    },
    {
     "data": {
      "image/jpeg": "[encoded data removed]",
      "text/plain": [
       "<IPython.core.display.Image object>"
      ]
     },
     "metadata": {},
     "output_type": "display_data"
    },
    {
     "name": "stdout",
     "output_type": "stream",
     "text": [
      "now playing Advent\n"
     ]
    },
    {
     "data": {
      "image/jpeg": "[encoded data removed]",
      "text/plain": [
       "<IPython.core.display.Image object>"
      ]
     },
     "metadata": {},
     "output_type": "display_data"
    },
    {
     "name": "stdout",
     "output_type": "stream",
     "text": [
      "now playing The Good Name\n"
     ]
    },
    {
     "data": {
      "image/jpeg": "[encoded data removed]",
      "text/plain": [
       "<IPython.core.display.Image object>"
      ]
     },
     "metadata": {},
     "output_type": "display_data"
    },
    {
     "name": "stdout",
     "output_type": "stream",
     "text": [
      "Are you still watching? also get a job y/nn\n"
     ]
    }
   ],
   "source": [
    "show_2.watch()"
   ]
  },
  {
   "cell_type": "code",
   "execution_count": 28,
   "metadata": {},
   "outputs": [],
   "source": [
    "class Theater:\n",
    "    def __init__(self):\n",
    "        self.users = []\n",
    "        self.watch_list = []\n",
    "        self.current_user = None\n",
    "        \n",
    "    # add a user\n",
    "    def add_user(self, name = ''):\n",
    "        if not name:\n",
    "            name = input(\"What is the name of the new user? \")\n",
    "        self.users.append(name.title())\n",
    "        self.choose_user()\n",
    "        \n",
    "    # choose a user\n",
    "    def choose_user(self):\n",
    "        while True:\n",
    "            print(\"Users: \")\n",
    "            for user in self.users:\n",
    "                print(user)\n",
    "            current = input(\"Choose a user: \")\n",
    "            if current.title() in self.users:\n",
    "                self.current_user = current\n",
    "                break\n",
    "            else:\n",
    "                print(f\"{current} is not a valid user. \")\n",
    "                \n",
    "    #add to watchlist \n",
    "    def add_to_watch_list(self, query = \"\"):\n",
    "        show = Series()\n",
    "        \n",
    "        show.get_info(query)\n",
    "        self.watch_list.append(show)\n",
    "        \n",
    "        print(f\"{show.title} has been added to the watchlist! \")\n",
    "        \n",
    "    # choose from our watchlist\n",
    "    def choose_from_watch_list(self):\n",
    "        for series in self.watch_list:\n",
    "            print(f\"\\n\\n{series} | Episodes: {len(series)}\")\n",
    "            print(f\"\\nSummary: \\n {series.summary}\")\n",
    "            display(Image(series.episodes[0].link))\n",
    "            \n",
    "        watch = input(\"What would you like to watch? \")\n",
    "        if watch.lower() in list(map(lambda x: x.title.lower(), self.watch_list)):\n",
    "            for series in self.watch_list:\n",
    "                if series.title.lower() == watch.lower().strip():\n",
    "                    series.play_show()\n",
    "        \n",
    "        else:\n",
    "            response = input(f\"{watch} is not in your watch list.... would you like to add it y/n?\")\n",
    "            \n",
    "            if response in ('yes', 'y'):\n",
    "                self.add_to_watch_list(watch)\n",
    "                \n",
    "                print(\"...........\")\n",
    "                sleep(2)\n",
    "                print(\"...........\")\n",
    "                self.watch_list[-1].play_show()\n",
    "                \n",
    "    # run function to drive program\n",
    "    def run(self):\n",
    "        \"\"\"\n",
    "        Method Allowing users to choose a series and play episodes\n",
    "        \"\"\"\n",
    "        display(Image(generic_image))\n",
    "        \n",
    "        if self.users:\n",
    "            self.choose_user()\n",
    "        else:\n",
    "            name = input(\"Create a profile: \")\n",
    "            self.add_user(name)\n",
    "            self.current_user = name\n",
    "            \n",
    "            print(\"\"\"\n",
    "                What would you like to do?\n",
    "                \n",
    "                Search - Search for shows\n",
    "                Watch - Pick something from your watch list\n",
    "                Add - add a new user\n",
    "                Quit - close the application            \n",
    "            \"\"\")\n",
    "            \n",
    "        while True: \n",
    "            response = input(\"What would you like to do? (search, watch, add, quit) \")\n",
    "            \n",
    "            if response.lower() == \"search\":\n",
    "                self.add_to_watch_list()\n",
    "            elif response.lower() == \"watch\":\n",
    "                self.choose_from_watch_list()\n",
    "            elif response.lower() == \"add\":\n",
    "                self.add_user()\n",
    "            elif response.lower() == \"quit\":\n",
    "                print(f\"Thanks for watching! {self.current_user}! Now go outside! \")\n",
    "                break\n",
    "                \n",
    "            else:\n",
    "                print(\"Invalid input, please choose from the list! \")\n",
    "    \n"
   ]
  },
  {
   "cell_type": "code",
   "execution_count": 30,
   "metadata": {},
   "outputs": [
    {
     "name": "stdout",
     "output_type": "stream",
     "text": [
      "What is the name of the new user? onitram52\n",
      "Users: \n",
      "Onitram52\n",
      "Choose a user: Onitram52\n"
     ]
    }
   ],
   "source": [
    "Service = Theater()\n",
    "Service.add_user()\n"
   ]
  },
  {
   "cell_type": "markdown",
   "metadata": {},
   "source": [
    "##  Exercise 1:\n",
    "Discuss what other classes we could make to improve our streaming service using these principles. <br> <br>\n",
    "Start making a few of them and see where it leads..."
   ]
  },
  {
   "cell_type": "code",
   "execution_count": 25,
   "metadata": {},
   "outputs": [
    {
     "name": "stdout",
     "output_type": "stream",
     "text": [
      "What show would you like to see the cast of?: naruto\n",
      "Cast information for this show is not available\n",
      "What show would you like to see the crew of?: naruto\n",
      "Crew information for this show is not available\n"
     ]
    }
   ],
   "source": [
    "#when i look up a show I usually like to know who is in it so I'll attempt to make a class for checking cast and crew\n",
    "from datetime import timedelta, date\n",
    "from IPython.display import Image\n",
    "import requests\n",
    "from time import sleep\n",
    "\n",
    "\n",
    "class CnC:\n",
    "    def __init__(self):\n",
    "        pass\n",
    "        \n",
    "    def get_show_cast(self, show_name):\n",
    "        show_url = f\"http://api.tvmaze.com/singlesearch/shows?q={show_name}\"\n",
    "        show_data = requests.get(show_url).json()\n",
    "        try:\n",
    "            cast_data = requests.get(show_data[\"_links\"][\"cast\"][\"href\"]).json()\n",
    "            cast_list = []\n",
    "            for member in cast_data:\n",
    "                cast_list.append(member[\"person\"][\"name\"])\n",
    "            return cast_list\n",
    "        except KeyError:\n",
    "            return \"Cast information for this show is not available\"\n",
    "    \n",
    "    def get_show_crew(self, show_name):\n",
    "        show_url = f\"http://api.tvmaze.com/singlesearch/shows?q={show_name}\"\n",
    "        show_data = requests.get(show_url).json()\n",
    "        try:\n",
    "            crew_data = requests.get(show_data[\"_links\"][\"crew\"][\"href\"]).json()\n",
    "            crew_list = []\n",
    "            for member in crew_data:\n",
    "                crew_list.append(member[\"person\"][\"name\"])\n",
    "            return crew_list\n",
    "        except KeyError:\n",
    "            return \"Crew information for this show is not available\"\n",
    "        \n",
    "search = CnC()\n",
    "show_name = input(\"What show would you like to see the cast of?: \")\n",
    "cst = search.get_show_cast(show_name)\n",
    "print(cst)\n",
    "\n",
    "\n",
    "show_name = input(\"What show would you like to see the crew of?: \")\n",
    "crw = search.get_show_crew(show_name)\n",
    "print(crw)\n",
    "\n",
    "#I kept getting key errors(lines 16 and 28) with the inital way it was coded. \n",
    "#im not sure why it wont give me the info im looking for. I added lines 21 and 34 to at least make the code functional\n",
    "#but still cannot get the info on cast or crew"
   ]
  }
 ],
 "metadata": {
  "kernelspec": {
   "display_name": "Python 3 (ipykernel)",
   "language": "python",
   "name": "python3"
  },
  "language_info": {
   "codemirror_mode": {
    "name": "ipython",
    "version": 3
   },
   "file_extension": ".py",
   "mimetype": "text/x-python",
   "name": "python",
   "nbconvert_exporter": "python",
   "pygments_lexer": "ipython3",
   "version": "3.9.13"
  }
 },
 "nbformat": 4,
 "nbformat_minor": 4
}
